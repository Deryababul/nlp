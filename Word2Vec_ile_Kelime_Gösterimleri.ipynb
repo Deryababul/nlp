{
  "nbformat": 4,
  "nbformat_minor": 0,
  "metadata": {
    "colab": {
      "provenance": [],
      "authorship_tag": "ABX9TyP/c4i3Qbr5DNuZTr8ynkip",
      "include_colab_link": true
    },
    "kernelspec": {
      "name": "python3",
      "display_name": "Python 3"
    },
    "language_info": {
      "name": "python"
    }
  },
  "cells": [
    {
      "cell_type": "markdown",
      "metadata": {
        "id": "view-in-github",
        "colab_type": "text"
      },
      "source": [
        "<a href=\"https://colab.research.google.com/github/Deryababul/nlp/blob/main/Word2Vec_ile_Kelime_G%C3%B6sterimleri.ipynb\" target=\"_parent\"><img src=\"https://colab.research.google.com/assets/colab-badge.svg\" alt=\"Open In Colab\"/></a>"
      ]
    },
    {
      "cell_type": "code",
      "execution_count": null,
      "metadata": {
        "colab": {
          "base_uri": "https://localhost:8080/"
        },
        "id": "d7Vtr7CZ7kcH",
        "outputId": "913418b2-007b-40f9-a8b0-10ba1dba2595"
      },
      "outputs": [
        {
          "output_type": "stream",
          "name": "stdout",
          "text": [
            "Requirement already satisfied: gensim in /usr/local/lib/python3.11/dist-packages (4.3.3)\n",
            "Requirement already satisfied: numpy<2.0,>=1.18.5 in /usr/local/lib/python3.11/dist-packages (from gensim) (1.26.4)\n",
            "Requirement already satisfied: scipy<1.14.0,>=1.7.0 in /usr/local/lib/python3.11/dist-packages (from gensim) (1.13.1)\n",
            "Requirement already satisfied: smart-open>=1.8.1 in /usr/local/lib/python3.11/dist-packages (from gensim) (7.1.0)\n",
            "Requirement already satisfied: wrapt in /usr/local/lib/python3.11/dist-packages (from smart-open>=1.8.1->gensim) (1.17.2)\n"
          ]
        }
      ],
      "source": [
        "pip install gensim"
      ]
    },
    {
      "cell_type": "code",
      "source": [
        "pip install gensim numpy==1.26.4"
      ],
      "metadata": {
        "colab": {
          "base_uri": "https://localhost:8080/"
        },
        "id": "eyDYKsKP9Ufn",
        "outputId": "3186c547-dd5b-4c93-94e2-7b902555f32d"
      },
      "execution_count": null,
      "outputs": [
        {
          "output_type": "stream",
          "name": "stdout",
          "text": [
            "Requirement already satisfied: gensim in /usr/local/lib/python3.11/dist-packages (4.3.3)\n",
            "Requirement already satisfied: numpy==1.26.4 in /usr/local/lib/python3.11/dist-packages (1.26.4)\n",
            "Requirement already satisfied: scipy<1.14.0,>=1.7.0 in /usr/local/lib/python3.11/dist-packages (from gensim) (1.13.1)\n",
            "Requirement already satisfied: smart-open>=1.8.1 in /usr/local/lib/python3.11/dist-packages (from gensim) (7.1.0)\n",
            "Requirement already satisfied: wrapt in /usr/local/lib/python3.11/dist-packages (from smart-open>=1.8.1->gensim) (1.17.2)\n"
          ]
        }
      ]
    },
    {
      "cell_type": "code",
      "source": [
        "import gensim\n",
        "from gensim.models import Word2Vec\n",
        "import re\n"
      ],
      "metadata": {
        "id": "wynTi2fR9lgc"
      },
      "execution_count": null,
      "outputs": []
    },
    {
      "cell_type": "code",
      "source": [
        "# Örnek metin\n",
        "text = \"\"\"\n",
        "Nasreddin Hoca pazara gitti. Eşeğine ters bindi. Halk neden böyle yaptığını sordu.\n",
        "Hoca güldü: Herkes ters gidiyor, ben düz gidiyorum.\n",
        "Bir gün pazardan peynir aldı, sepetine koydu. Bir köpek peyniri aldı kaçtı.\n",
        "\"\"\"\n",
        "\n",
        "# Temizleme ve tokenize işlemi\n",
        "def preprocess(text):\n",
        "    text = text.lower()\n",
        "    text = re.sub(r\"[^\\w\\s]\", \"\", text)\n",
        "    sentences = text.split(\".\")\n",
        "    return [sentence.strip().split() for sentence in sentences if sentence]\n",
        "\n",
        "sentences = preprocess(text)\n"
      ],
      "metadata": {
        "id": "MN4QXOET9vH0"
      },
      "execution_count": null,
      "outputs": []
    },
    {
      "cell_type": "code",
      "source": [
        "# Skip-Gram modeli (sg=1), boyut=100\n",
        "model = Word2Vec(sentences, vector_size=100, window=5, min_count=1, sg=1)\n"
      ],
      "metadata": {
        "id": "IWFcRgld9xQZ"
      },
      "execution_count": null,
      "outputs": []
    },
    {
      "cell_type": "code",
      "source": [
        "print(model.wv.most_similar(\"hoca\"))"
      ],
      "metadata": {
        "colab": {
          "base_uri": "https://localhost:8080/"
        },
        "id": "jZKHiK5y9zrK",
        "outputId": "bee28b74-4484-4ff3-d024-f178b04475d9"
      },
      "execution_count": null,
      "outputs": [
        {
          "output_type": "stream",
          "name": "stdout",
          "text": [
            "[('peyniri', 0.21966274082660675), ('bindi', 0.2165575921535492), ('nasreddin', 0.09922265261411667), ('gitti', 0.09379728138446808), ('böyle', 0.09297387301921844), ('gidiyorum', 0.08499593287706375), ('neden', 0.08018457144498825), ('gün', 0.06393713504076004), ('halk', 0.06341558694839478), ('herkes', 0.05483018979430199)]\n"
          ]
        }
      ]
    },
    {
      "cell_type": "code",
      "source": [
        "# 'hoca' kelimesinin vektörü\n",
        "print(model.wv[\"hoca\"])\n"
      ],
      "metadata": {
        "colab": {
          "base_uri": "https://localhost:8080/"
        },
        "id": "HUEMgyOI91bq",
        "outputId": "47c66559-58c0-475d-ae58-77097143623d"
      },
      "execution_count": null,
      "outputs": [
        {
          "output_type": "stream",
          "name": "stdout",
          "text": [
            "[-5.3425028e-04  2.1604213e-04  5.0908253e-03  9.0123797e-03\n",
            " -9.2997719e-03 -7.1175583e-03  6.4755129e-03  9.0014599e-03\n",
            " -5.0506340e-03 -3.7704585e-03  7.3701199e-03 -1.5430887e-03\n",
            " -4.5279595e-03  6.5691094e-03 -4.8731165e-03 -1.8255111e-03\n",
            "  2.8795870e-03  1.0047926e-03 -8.2886424e-03 -9.4824359e-03\n",
            "  7.3142871e-03  5.0621750e-03  6.7770854e-03  7.6393894e-04\n",
            "  6.3300813e-03 -3.4205669e-03 -9.4329461e-04  5.7588043e-03\n",
            " -7.5210826e-03 -3.9272183e-03 -7.4818563e-03 -9.4200642e-04\n",
            "  9.5383273e-03 -7.3093711e-03 -2.3434318e-03 -1.9101378e-03\n",
            "  8.0837402e-03 -5.9230900e-03  4.1294392e-05 -4.7743432e-03\n",
            " -9.5787579e-03  4.9729487e-03 -8.7742079e-03 -4.3716156e-03\n",
            " -3.0661293e-05 -3.0339899e-04 -7.6800790e-03  9.5911631e-03\n",
            "  5.0031650e-03  9.2281187e-03 -8.1584733e-03  4.4628773e-03\n",
            " -4.1411840e-03  8.3899993e-04  8.4734010e-03 -4.4401451e-03\n",
            "  4.5234240e-03 -6.8177716e-03 -3.5696568e-03  9.3736220e-03\n",
            " -1.5624104e-03  3.2278991e-04 -4.1051637e-03 -7.6889414e-03\n",
            " -1.5412936e-03  2.5067821e-03 -8.9579821e-04  5.5396860e-03\n",
            " -2.7604150e-03  2.2584097e-03  5.4743825e-03  8.3610108e-03\n",
            " -1.4427422e-03 -9.1898199e-03  4.3900544e-03  5.7820033e-04\n",
            "  7.4631316e-03 -7.9734845e-04 -2.6545036e-03 -8.7416768e-03\n",
            " -8.4736239e-04  2.8175113e-03  5.3844275e-03  7.0619746e-03\n",
            " -5.7166144e-03  1.8464241e-03  6.0729417e-03 -4.7853342e-03\n",
            " -3.1072167e-03  6.8082912e-03  1.6602679e-03  1.9686313e-04\n",
            "  3.4727685e-03  2.2385492e-04  9.6257851e-03  5.0648726e-03\n",
            " -8.8894479e-03 -7.0634056e-03  9.1369718e-04  6.3813664e-03]\n"
          ]
        }
      ]
    },
    {
      "cell_type": "code",
      "source": [
        "\n"
      ],
      "metadata": {
        "id": "WTwEN4hm95Ys"
      },
      "execution_count": null,
      "outputs": []
    }
  ]
}