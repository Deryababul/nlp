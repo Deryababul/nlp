{
  "nbformat": 4,
  "nbformat_minor": 0,
  "metadata": {
    "colab": {
      "provenance": [],
      "mount_file_id": "12iuj5MbxdMRygSVLn6pYB4cne4W94YJD",
      "authorship_tag": "ABX9TyMH5WqUomsSqKLOWUB/8Am+",
      "include_colab_link": true
    },
    "kernelspec": {
      "name": "python3",
      "display_name": "Python 3"
    },
    "language_info": {
      "name": "python"
    }
  },
  "cells": [
    {
      "cell_type": "markdown",
      "metadata": {
        "id": "view-in-github",
        "colab_type": "text"
      },
      "source": [
        "<a href=\"https://colab.research.google.com/github/Deryababul/nlp/blob/main/Markov_Zinciri_ile_Metin_%C3%9Cretme.ipynb\" target=\"_parent\"><img src=\"https://colab.research.google.com/assets/colab-badge.svg\" alt=\"Open In Colab\"/></a>"
      ]
    },
    {
      "cell_type": "code",
      "execution_count": null,
      "metadata": {
        "colab": {
          "base_uri": "https://localhost:8080/",
          "height": 36
        },
        "id": "0E6xMJ6kfEQ0",
        "outputId": "bdc50bc7-6e4a-4177-a48c-2c2b15088117"
      },
      "outputs": [
        {
          "output_type": "execute_result",
          "data": {
            "text/plain": [
              "''"
            ],
            "application/vnd.google.colaboratory.intrinsic+json": {
              "type": "string"
            }
          },
          "metadata": {},
          "execution_count": 1
        }
      ],
      "source": [
        "text = \"merhaba dünya merhaba arkadaşlar merhaba dünya\"\n",
        "\n",
        "words = text.split()\n"
      ]
    },
    {
      "cell_type": "code",
      "source": [
        "import random\n",
        "from collections import defaultdict\n",
        "\n",
        "# Boş bir sözlük oluştur\n",
        "markov_chain = defaultdict(list)\n",
        "\n",
        "# Her kelimenin ardına gelen kelimeyi kaydet\n",
        "for i in range(len(words) - 1):\n",
        "    markov_chain[words[i]].append(words[i + 1])\n"
      ],
      "metadata": {
        "id": "NMm1YySRf0fo"
      },
      "execution_count": null,
      "outputs": []
    },
    {
      "cell_type": "code",
      "source": [
        "def generate_sentence(chain, start_word, length=10):\n",
        "    word = start_word\n",
        "    sentence = [word]\n",
        "\n",
        "    for _ in range(length - 1):\n",
        "        next_words = chain.get(word)\n",
        "        if not next_words:\n",
        "            break\n",
        "        word = random.choice(next_words)\n",
        "        sentence.append(word)\n",
        "\n",
        "    return ' '.join(sentence)\n",
        "\n",
        "# Örnek üretim\n",
        "print(generate_sentence(markov_chain, \"merhaba\"))\n"
      ],
      "metadata": {
        "colab": {
          "base_uri": "https://localhost:8080/"
        },
        "id": "QKpb3w6nf1cG",
        "outputId": "430b4675-dc7d-48e7-c61e-f2e9a8fb58b1"
      },
      "execution_count": null,
      "outputs": [
        {
          "output_type": "stream",
          "name": "stdout",
          "text": [
            "merhaba arkadaşlar merhaba arkadaşlar merhaba dünya merhaba arkadaşlar merhaba arkadaşlar\n"
          ]
        }
      ]
    },
    {
      "cell_type": "code",
      "source": [
        "import re\n",
        "import nltk\n",
        "from nltk.tokenize import word_tokenize\n",
        "\n",
        "# Metin örneği\n",
        "text = \"Merhaba dünya. Bu bir örnek metindir. Doğal dil işleme eğlencelidir.\"\n",
        "\n",
        "# Küçük harfe çevirme ve noktalama kaldırma\n",
        "text = text.lower()\n",
        "text = re.sub(r'[^\\w\\s]', '', text)\n",
        "\n",
        "# Kelimelere ayırma (tokenizasyon)\n",
        "tokens = word_tokenize(text)\n",
        "\n",
        "print(tokens)  # ['merhaba', 'dünya', 'bu', 'bir', 'örnek', 'metindir', 'doğal', 'dil', 'işleme', 'eğlencelidir']\n"
      ],
      "metadata": {
        "colab": {
          "base_uri": "https://localhost:8080/"
        },
        "id": "gPh0RMkDfPOH",
        "outputId": "65570b34-df18-4b03-e3f6-267c7e90a607"
      },
      "execution_count": null,
      "outputs": [
        {
          "output_type": "stream",
          "name": "stdout",
          "text": [
            "['merhaba', 'dünya', 'bu', 'bir', 'örnek', 'metindir', 'doğal', 'dil', 'işleme', 'eğlencelidir']\n"
          ]
        }
      ]
    },
    {
      "cell_type": "code",
      "source": [
        "import random\n",
        "from collections import defaultdict\n",
        "import re\n",
        "\n",
        "# 1. Metni temizle ve kelimelere ayır\n",
        "def preprocess(text):\n",
        "    text = text.lower()\n",
        "    text = re.sub(r'[^\\w\\s]', '', text)  # noktalama işaretlerini sil\n",
        "    return text.split()\n",
        "\n",
        "# 2. Markov zinciri oluştur\n",
        "def build_markov_chain(words):\n",
        "    chain = defaultdict(list)\n",
        "    for i in range(len(words) - 1):\n",
        "        chain[words[i]].append(words[i + 1])\n",
        "    return chain\n",
        "\n",
        "# 3. Cümle üret\n",
        "def generate_sentence(chain, start_word, length=15):\n",
        "    word = start_word\n",
        "    sentence = [word]\n",
        "\n",
        "    for _ in range(length - 1):\n",
        "        next_words = chain.get(word)\n",
        "        if not next_words:\n",
        "            break\n",
        "        word = random.choice(next_words)\n",
        "        sentence.append(word)\n",
        "\n",
        "    return ' '.join(sentence)\n",
        "\n",
        "# Metin\n",
        "text = \"\"\"\n",
        "Bir gün Nasreddin Hoca pazara gider. Yanında büyükçe bir sepet taşır.\n",
        "Pazarda bir sürü insan vardır. Hoca bir dükkâna uğrar ve der ki:\n",
        "\"Bu peynir ne kadar?\" Satıcı cevap verir: \"Bir akçe hocam.\"\n",
        "Hoca cebinden bir akçe çıkarır, peyniri alır ve sepetine koyar.\n",
        "Yolda giderken bir köpek hocanın sepetine atlar, peyniri alır kaçar.\n",
        "Hoca arkasından bağırır: \"Dur bakalım, parasını ödedim ben!\"\n",
        "Başka bir gün, Hoca eşeğine ters biner. Halk sorar: \"Hoca neden ters bindin?\"\n",
        "Hoca cevap verir: \"Herkes ters gidiyor, ben düzüm!\"\n",
        "Köylüler gülmeye başlar. Hoca da güler: \"Ne gülüyorsunuz? Haklıyım!\"\n",
        "\"\"\"\n",
        "\n",
        "# Uygulama\n",
        "words = preprocess(text)\n",
        "markov_chain = build_markov_chain(words)\n",
        "\n",
        "# Rastgele bir başlangıç kelimesi seç\n",
        "start_word = random.choice(words)\n",
        "print(\"Başlangıç kelimesi:\", start_word)\n",
        "\n",
        "# Cümle üret\n",
        "sentence = generate_sentence(markov_chain, start_word)\n",
        "print(\"Üretilen cümle:\", sentence)\n"
      ],
      "metadata": {
        "colab": {
          "base_uri": "https://localhost:8080/"
        },
        "id": "tTBzgZA5gWO4",
        "outputId": "882e4ef4-71e6-4f82-b877-8526f7855d44"
      },
      "execution_count": null,
      "outputs": [
        {
          "output_type": "stream",
          "name": "stdout",
          "text": [
            "Başlangıç kelimesi: bindin\n",
            "Üretilen cümle: bindin hoca cevap verir herkes ters biner halk sorar hoca neden ters biner halk sorar\n"
          ]
        }
      ]
    }
  ]
}