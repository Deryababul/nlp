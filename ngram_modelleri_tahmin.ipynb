{
  "nbformat": 4,
  "nbformat_minor": 0,
  "metadata": {
    "colab": {
      "provenance": [],
      "mount_file_id": "12iuj5MbxdMRygSVLn6pYB4cne4W94YJD",
      "authorship_tag": "ABX9TyMK+jBHUPcBRSeUloFo/jfM",
      "include_colab_link": true
    },
    "kernelspec": {
      "name": "python3",
      "display_name": "Python 3"
    },
    "language_info": {
      "name": "python"
    }
  },
  "cells": [
    {
      "cell_type": "markdown",
      "metadata": {
        "id": "view-in-github",
        "colab_type": "text"
      },
      "source": [
        "<a href=\"https://colab.research.google.com/github/Deryababul/nlp/blob/main/ngram_modelleri_tahmin.ipynb\" target=\"_parent\"><img src=\"https://colab.research.google.com/assets/colab-badge.svg\" alt=\"Open In Colab\"/></a>"
      ]
    },
    {
      "cell_type": "code",
      "execution_count": null,
      "metadata": {
        "colab": {
          "base_uri": "https://localhost:8080/"
        },
        "id": "0E6xMJ6kfEQ0",
        "outputId": "ac22a47f-7d22-4c22-f15c-916a663655dd"
      },
      "outputs": [
        {
          "output_type": "stream",
          "name": "stdout",
          "text": [
            "Requirement already satisfied: nltk in /usr/local/lib/python3.11/dist-packages (3.9.1)\n",
            "Requirement already satisfied: click in /usr/local/lib/python3.11/dist-packages (from nltk) (8.1.8)\n",
            "Requirement already satisfied: joblib in /usr/local/lib/python3.11/dist-packages (from nltk) (1.4.2)\n",
            "Requirement already satisfied: regex>=2021.8.3 in /usr/local/lib/python3.11/dist-packages (from nltk) (2024.11.6)\n",
            "Requirement already satisfied: tqdm in /usr/local/lib/python3.11/dist-packages (from nltk) (4.67.1)\n"
          ]
        }
      ],
      "source": [
        "pip install nltk"
      ]
    },
    {
      "cell_type": "code",
      "source": [
        "import nltk\n",
        "nltk.download('punkt')\n",
        "\n"
      ],
      "metadata": {
        "colab": {
          "base_uri": "https://localhost:8080/"
        },
        "id": "NMm1YySRf0fo",
        "outputId": "57fa6334-95fb-4761-d504-bdae34dfcd11"
      },
      "execution_count": null,
      "outputs": [
        {
          "output_type": "stream",
          "name": "stderr",
          "text": [
            "[nltk_data] Downloading package punkt to /root/nltk_data...\n",
            "[nltk_data]   Package punkt is already up-to-date!\n"
          ]
        },
        {
          "output_type": "execute_result",
          "data": {
            "text/plain": [
              "True"
            ]
          },
          "metadata": {},
          "execution_count": 10
        }
      ]
    },
    {
      "cell_type": "code",
      "source": [
        "nltk.download('punkt_tab')"
      ],
      "metadata": {
        "colab": {
          "base_uri": "https://localhost:8080/"
        },
        "id": "QKpb3w6nf1cG",
        "outputId": "b245c0b5-7831-4c6f-891b-fc0fbe1e8f4f"
      },
      "execution_count": null,
      "outputs": [
        {
          "output_type": "stream",
          "name": "stderr",
          "text": [
            "[nltk_data] Downloading package punkt_tab to /root/nltk_data...\n",
            "[nltk_data]   Unzipping tokenizers/punkt_tab.zip.\n"
          ]
        },
        {
          "output_type": "execute_result",
          "data": {
            "text/plain": [
              "True"
            ]
          },
          "metadata": {},
          "execution_count": 12
        }
      ]
    },
    {
      "cell_type": "code",
      "source": [
        "import re\n",
        "import nltk\n",
        "from nltk.tokenize import word_tokenize\n",
        "\n",
        "# Metin örneği\n",
        "text = \"Merhaba dünya. Bu bir örnek metindir. Doğal dil işleme eğlencelidir.\"\n",
        "\n",
        "# Küçük harfe çevirme ve noktalama kaldırma\n",
        "text = text.lower()\n",
        "text = re.sub(r'[^\\w\\s]', '', text)\n",
        "\n",
        "# Kelimelere ayırma (tokenizasyon)\n",
        "tokens = word_tokenize(text)\n",
        "\n",
        "print(tokens)  # ['merhaba', 'dünya', 'bu', 'bir', 'örnek', 'metindir', 'doğal', 'dil', 'işleme', 'eğlencelidir']\n"
      ],
      "metadata": {
        "colab": {
          "base_uri": "https://localhost:8080/"
        },
        "id": "gPh0RMkDfPOH",
        "outputId": "65570b34-df18-4b03-e3f6-267c7e90a607"
      },
      "execution_count": null,
      "outputs": [
        {
          "output_type": "stream",
          "name": "stdout",
          "text": [
            "['merhaba', 'dünya', 'bu', 'bir', 'örnek', 'metindir', 'doğal', 'dil', 'işleme', 'eğlencelidir']\n"
          ]
        }
      ]
    },
    {
      "cell_type": "code",
      "source": [
        "from nltk.util import ngrams\n",
        "\n",
        "# Unigram (Tek kelimeler)\n",
        "unigrams = list(tokens)\n",
        "\n",
        "# Bigram (İkili kelime grupları)\n",
        "bigrams = list(ngrams(tokens, 2))\n",
        "\n",
        "# Trigram (Üçlü kelime grupları)\n",
        "trigrams = list(ngrams(tokens, 3))\n",
        "\n",
        "print(\"Unigram:\", unigrams)\n",
        "print(\"Bigram:\", bigrams)\n",
        "print(\"Trigram:\", trigrams)\n"
      ],
      "metadata": {
        "colab": {
          "base_uri": "https://localhost:8080/"
        },
        "id": "tTBzgZA5gWO4",
        "outputId": "5f1b4969-2b8f-4593-8b03-499b8fb7ec83"
      },
      "execution_count": null,
      "outputs": [
        {
          "output_type": "stream",
          "name": "stdout",
          "text": [
            "Unigram: ['merhaba', 'dünya', 'bu', 'bir', 'örnek', 'metindir', 'doğal', 'dil', 'işleme', 'eğlencelidir']\n",
            "Bigram: [('merhaba', 'dünya'), ('dünya', 'bu'), ('bu', 'bir'), ('bir', 'örnek'), ('örnek', 'metindir'), ('metindir', 'doğal'), ('doğal', 'dil'), ('dil', 'işleme'), ('işleme', 'eğlencelidir')]\n",
            "Trigram: [('merhaba', 'dünya', 'bu'), ('dünya', 'bu', 'bir'), ('bu', 'bir', 'örnek'), ('bir', 'örnek', 'metindir'), ('örnek', 'metindir', 'doğal'), ('metindir', 'doğal', 'dil'), ('doğal', 'dil', 'işleme'), ('dil', 'işleme', 'eğlencelidir')]\n"
          ]
        }
      ]
    },
    {
      "cell_type": "code",
      "source": [
        "from nltk.probability import FreqDist\n",
        "\n",
        "# Frekans dağılımlarını oluşturma\n",
        "unigram_freq = FreqDist(unigrams)\n",
        "bigram_freq = FreqDist(bigrams)\n",
        "trigram_freq = FreqDist(trigrams)\n",
        "\n",
        "# Örnek çıktı: En sık geçen ilk 5 unigram\n",
        "print(\"Unigram en sık geçenler:\", unigram_freq.most_common(5))\n",
        "print(\"Bigram en sık geçenler:\", bigram_freq.most_common(5))\n",
        "print(\"Trigram en sık geçenler:\", trigram_freq.most_common(5))\n"
      ],
      "metadata": {
        "colab": {
          "base_uri": "https://localhost:8080/"
        },
        "id": "wJMmnCS7gmSs",
        "outputId": "8539331c-b3e3-4fbe-9341-03db5e3f7c29"
      },
      "execution_count": null,
      "outputs": [
        {
          "output_type": "stream",
          "name": "stdout",
          "text": [
            "Unigram en sık geçenler: [('merhaba', 1), ('dünya', 1), ('bu', 1), ('bir', 1), ('örnek', 1)]\n",
            "Bigram en sık geçenler: [(('merhaba', 'dünya'), 1), (('dünya', 'bu'), 1), (('bu', 'bir'), 1), (('bir', 'örnek'), 1), (('örnek', 'metindir'), 1)]\n",
            "Trigram en sık geçenler: [(('merhaba', 'dünya', 'bu'), 1), (('dünya', 'bu', 'bir'), 1), (('bu', 'bir', 'örnek'), 1), (('bir', 'örnek', 'metindir'), 1), (('örnek', 'metindir', 'doğal'), 1)]\n"
          ]
        }
      ]
    },
    {
      "cell_type": "code",
      "source": [
        "# Bigram tahmini için\n",
        "prev_word = \"doğal\"\n",
        "next_word_options = [b[1] for b in bigram_freq.keys() if b[0] == prev_word]\n",
        "\n",
        "print(f'\"{prev_word}\" kelimesinden sonra gelebilecek kelimeler: {next_word_options}')\n"
      ],
      "metadata": {
        "colab": {
          "base_uri": "https://localhost:8080/"
        },
        "id": "Z1UeghZdgojt",
        "outputId": "65fb6002-492f-48b7-dd39-45f01bfe1a37"
      },
      "execution_count": null,
      "outputs": [
        {
          "output_type": "stream",
          "name": "stdout",
          "text": [
            "\"doğal\" kelimesinden sonra gelebilecek kelimeler: ['dil']\n"
          ]
        }
      ]
    },
    {
      "cell_type": "code",
      "source": [
        "# Kullanıcının girdiği kelimeyle tahmin yapalım\n",
        "input_text = \"doğal dil\"\n",
        "input_tokens = input_text.split()\n",
        "\n",
        "# Eğer bigram modelindeysek\n",
        "if len(input_tokens) == 1:\n",
        "    next_word = [b[1] for b in bigram_freq.keys() if b[0] == input_tokens[0]]\n",
        "\n",
        "# Eğer trigram modelindeysek\n",
        "elif len(input_tokens) == 2:\n",
        "    next_word = [t[2] for t in trigram_freq.keys() if t[0] == input_tokens[0] and t[1] == input_tokens[1]]\n",
        "\n",
        "print(f'\"{input_text}\" ifadesinden sonra en olası kelime(ler): {next_word}')\n"
      ],
      "metadata": {
        "colab": {
          "base_uri": "https://localhost:8080/"
        },
        "id": "08lUvGiKgqh2",
        "outputId": "bb76584e-1d5a-465d-c7c8-076ebfac06c2"
      },
      "execution_count": null,
      "outputs": [
        {
          "output_type": "stream",
          "name": "stdout",
          "text": [
            "\"doğal dil\" ifadesinden sonra en olası kelime(ler): ['işleme']\n"
          ]
        }
      ]
    },
    {
      "cell_type": "code",
      "source": [],
      "metadata": {
        "id": "JrU7cePQgtTP"
      },
      "execution_count": null,
      "outputs": []
    }
  ]
}