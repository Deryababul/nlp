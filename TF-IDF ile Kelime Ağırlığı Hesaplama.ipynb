{
 "cells": [
  {
   "cell_type": "code",
   "execution_count": null,
   "id": "f8666672",
   "metadata": {},
   "outputs": [
    {
     "ename": "",
     "evalue": "",
     "output_type": "error",
     "traceback": [
      "\u001b[1;31mRunning cells with 'Python 3.9.6' requires the ipykernel package.\n",
      "\u001b[1;31m<a href='command:jupyter.createPythonEnvAndSelectController'>Create a Python Environment</a> with the required packages.\n",
      "\u001b[1;31mOr install 'ipykernel' using the command: '/usr/bin/python3 -m pip install ipykernel -U --user --force-reinstall'"
     ]
    }
   ],
   "source": [
    "from sklearn.feature_extraction.text import TfidfVectorizer\n",
    "\n",
    "# Küçük metin koleksiyonu\n",
    "belgeler = [\n",
    "    \"Python programlama dili çok popüler ve geniş bir topluluğa sahip\",\n",
    "    \"Python ile veri analizi yapmak çok kolay ve etkili\",\n",
    "    \"Veri analizi için Python ve R dilleri yaygın olarak kullanılır\",\n",
    "    \"Python, yazılım geliştirme için güçlü bir araçtır\",\n",
    "    \"Yapay zeka ve makine öğrenmesi Python kullanılarak geliştirilebilir\",\n",
    "    \"Python, özellikle veri biliminde çok yaygın bir programlama dilidir\",\n",
    "    \"Python öğrenmek çok eğlenceli ve faydalıdır\",\n",
    "    \"Veri bilimi ve makine öğrenmesi alanında Python kullanımı hızla artmaktadır\",\n",
    "    \"Python ile web geliştirme ve uygulama yazma oldukça popüler\",\n",
    "    \"Python, çok sayıda kütüphane ve modül sunarak yazılımcılara kolaylık sağlar\"\n",
    "]\n",
    "\n",
    "\n",
    "# TfidfVectorizer kullanarak TF-IDF hesaplama\n",
    "vectorizer = TfidfVectorizer()\n",
    "tfidf_matrix = vectorizer.fit_transform(belgeler)\n",
    "\n",
    "# Kelimelerin sıralı listesi\n",
    "kelimeler = vectorizer.get_feature_names_out()\n",
    "\n",
    "# TF-IDF matrisi\n",
    "print(\"TF-IDF Matrisi:\")\n",
    "print(tfidf_matrix.toarray())\n",
    "\n",
    "# Kelimeleri ve ağırlıklarını yazdırma\n",
    "print(\"\\nKelime Ağırlıkları:\")\n",
    "for kelime, idf_degeri in zip(kelimeler, vectorizer.idf_):\n",
    "    print(f\"{kelime}: {idf_degeri}\")\n"
   ]
  }
 ],
 "metadata": {
  "kernelspec": {
   "display_name": "Python 3",
   "language": "python",
   "name": "python3"
  },
  "language_info": {
   "name": "python",
   "version": "3.9.6"
  }
 },
 "nbformat": 4,
 "nbformat_minor": 5
}
