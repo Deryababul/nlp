{
  "nbformat": 4,
  "nbformat_minor": 0,
  "metadata": {
    "colab": {
      "provenance": [],
      "authorship_tag": "ABX9TyPEkAiQQgaPy3JOSdtc4RiG",
      "include_colab_link": true
    },
    "kernelspec": {
      "name": "python3",
      "display_name": "Python 3"
    },
    "language_info": {
      "name": "python"
    }
  },
  "cells": [
    {
      "cell_type": "markdown",
      "metadata": {
        "id": "view-in-github",
        "colab_type": "text"
      },
      "source": [
        "<a href=\"https://colab.research.google.com/github/Deryababul/nlp/blob/main/Duygu_Analizi_Uygulamas%C4%B1.ipynb\" target=\"_parent\"><img src=\"https://colab.research.google.com/assets/colab-badge.svg\" alt=\"Open In Colab\"/></a>"
      ]
    },
    {
      "cell_type": "code",
      "execution_count": null,
      "metadata": {
        "colab": {
          "base_uri": "https://localhost:8080/"
        },
        "id": "SdXjASIaX3Bj",
        "outputId": "e9b124a3-b226-4752-d720-6435ee481875"
      },
      "outputs": [
        {
          "output_type": "stream",
          "name": "stdout",
          "text": [
            "Requirement already satisfied: pandas in /usr/local/lib/python3.11/dist-packages (2.2.2)\n",
            "Requirement already satisfied: scikit-learn in /usr/local/lib/python3.11/dist-packages (1.6.1)\n",
            "Requirement already satisfied: nltk in /usr/local/lib/python3.11/dist-packages (3.9.1)\n",
            "Requirement already satisfied: matplotlib in /usr/local/lib/python3.11/dist-packages (3.10.0)\n",
            "Requirement already satisfied: numpy>=1.23.2 in /usr/local/lib/python3.11/dist-packages (from pandas) (2.0.2)\n",
            "Requirement already satisfied: python-dateutil>=2.8.2 in /usr/local/lib/python3.11/dist-packages (from pandas) (2.9.0.post0)\n",
            "Requirement already satisfied: pytz>=2020.1 in /usr/local/lib/python3.11/dist-packages (from pandas) (2025.2)\n",
            "Requirement already satisfied: tzdata>=2022.7 in /usr/local/lib/python3.11/dist-packages (from pandas) (2025.2)\n",
            "Requirement already satisfied: scipy>=1.6.0 in /usr/local/lib/python3.11/dist-packages (from scikit-learn) (1.15.2)\n",
            "Requirement already satisfied: joblib>=1.2.0 in /usr/local/lib/python3.11/dist-packages (from scikit-learn) (1.4.2)\n",
            "Requirement already satisfied: threadpoolctl>=3.1.0 in /usr/local/lib/python3.11/dist-packages (from scikit-learn) (3.6.0)\n",
            "Requirement already satisfied: click in /usr/local/lib/python3.11/dist-packages (from nltk) (8.1.8)\n",
            "Requirement already satisfied: regex>=2021.8.3 in /usr/local/lib/python3.11/dist-packages (from nltk) (2024.11.6)\n",
            "Requirement already satisfied: tqdm in /usr/local/lib/python3.11/dist-packages (from nltk) (4.67.1)\n",
            "Requirement already satisfied: contourpy>=1.0.1 in /usr/local/lib/python3.11/dist-packages (from matplotlib) (1.3.2)\n",
            "Requirement already satisfied: cycler>=0.10 in /usr/local/lib/python3.11/dist-packages (from matplotlib) (0.12.1)\n",
            "Requirement already satisfied: fonttools>=4.22.0 in /usr/local/lib/python3.11/dist-packages (from matplotlib) (4.57.0)\n",
            "Requirement already satisfied: kiwisolver>=1.3.1 in /usr/local/lib/python3.11/dist-packages (from matplotlib) (1.4.8)\n",
            "Requirement already satisfied: packaging>=20.0 in /usr/local/lib/python3.11/dist-packages (from matplotlib) (24.2)\n",
            "Requirement already satisfied: pillow>=8 in /usr/local/lib/python3.11/dist-packages (from matplotlib) (11.2.1)\n",
            "Requirement already satisfied: pyparsing>=2.3.1 in /usr/local/lib/python3.11/dist-packages (from matplotlib) (3.2.3)\n",
            "Requirement already satisfied: six>=1.5 in /usr/local/lib/python3.11/dist-packages (from python-dateutil>=2.8.2->pandas) (1.17.0)\n"
          ]
        }
      ],
      "source": [
        "pip install pandas scikit-learn nltk matplotlib"
      ]
    },
    {
      "cell_type": "code",
      "source": [
        "import kagglehub\n",
        "\n",
        "# Download latest version\n",
        "path = kagglehub.dataset_download(\"winvoker/turkishsentimentanalysisdataset\")\n",
        "\n",
        "print(\"Path to dataset files:\", path)"
      ],
      "metadata": {
        "colab": {
          "base_uri": "https://localhost:8080/"
        },
        "id": "1zwZ-ksSZLAv",
        "outputId": "4d3c7276-e757-44d1-c8f7-e616cde4fd03"
      },
      "execution_count": null,
      "outputs": [
        {
          "output_type": "stream",
          "name": "stdout",
          "text": [
            "Path to dataset files: /kaggle/input/turkishsentimentanalysisdataset\n"
          ]
        }
      ]
    },
    {
      "cell_type": "code",
      "source": [
        "import pandas as pd\n",
        "import re\n",
        "import nltk\n",
        "from sklearn.feature_extraction.text import CountVectorizer\n",
        "from sklearn.naive_bayes import MultinomialNB\n",
        "from sklearn.metrics import classification_report, confusion_matrix\n",
        "import matplotlib.pyplot as plt\n",
        "\n",
        "# NLTK stopwords indir\n",
        "nltk.download(\"stopwords\")\n",
        "from nltk.corpus import stopwords\n",
        "\n",
        "stop_words = set(stopwords.words(\"turkish\"))\n",
        "\n",
        "# Metin temizleme fonksiyonu\n",
        "def temizle(metin):\n",
        "    metin = re.sub(r\"http\\S+\", \"\", metin)\n",
        "    metin = re.sub(r\"@\\S+\", \"\", metin)\n",
        "    metin = re.sub(r\"[^a-zA-ZçÇğĞıİöÖşŞüÜ ]\", \" \", metin)\n",
        "    metin = metin.lower()\n",
        "    kelimeler = metin.split()\n",
        "    kelimeler = [k for k in kelimeler if k not in stop_words]\n",
        "    return \" \".join(kelimeler)\n",
        "\n",
        "# 📥 Eğitim ve test verilerini yükle\n",
        "train_df = pd.read_csv(\"/kaggle/input/turkishsentimentanalysisdataset/train.csv\")\n",
        "test_df = pd.read_csv(\"/kaggle/input/turkishsentimentanalysisdataset/test.csv\")\n",
        "\n",
        "# Boşları ve gereksiz sütunları temizle\n",
        "train_df = train_df[['text', 'label']].dropna()\n",
        "test_df = test_df[['text', 'label']].dropna()\n",
        "\n",
        "# Metinleri temizle\n",
        "train_df[\"temiz_text\"] = train_df[\"text\"].apply(temizle)\n",
        "test_df[\"temiz_text\"] = test_df[\"text\"].apply(temizle)\n",
        "\n",
        "# Etiketleri dönüştür (Label Encoding)\n",
        "label_mapping = {\"Negative\": 0, \"Notr\": 1, \"Positive\": 2}\n",
        "train_df[\"etiket\"] = train_df[\"label\"].map(label_mapping)\n",
        "test_df[\"etiket\"] = test_df[\"label\"].map(label_mapping)\n",
        "\n",
        "# Özellik çıkarımı (CountVectorizer)\n",
        "vectorizer = CountVectorizer(max_features=3000)\n",
        "X_train = vectorizer.fit_transform(train_df[\"temiz_text\"]).toarray()\n",
        "y_train = train_df[\"etiket\"]\n",
        "X_test = vectorizer.transform(test_df[\"temiz_text\"]).toarray()\n",
        "y_test = test_df[\"etiket\"]\n",
        "\n",
        "# Modeli oluştur ve eğit\n",
        "model = MultinomialNB()\n",
        "model.fit(X_train, y_train)\n",
        "\n",
        "# Tahmin yap\n",
        "y_pred = model.predict(X_test)\n",
        "\n",
        "# Sonuçları yazdır\n",
        "print(\"\\n📊 Sınıflandırma Raporu:\\n\")\n",
        "etiket_isimleri = [\"Negative\", \"Notr\", \"Positive\"]\n",
        "print(classification_report(y_test, y_pred, target_names=etiket_isimleri))\n",
        "\n",
        "# 🔍 Confusion Matrix\n",
        "conf_matrix = confusion_matrix(y_test, y_pred)\n",
        "plt.figure(figsize=(6, 5))\n",
        "plt.title(\"🔵 Confusion Matrix\")\n",
        "plt.imshow(conf_matrix, interpolation=\"nearest\", cmap=plt.cm.Blues)\n",
        "plt.colorbar()\n",
        "plt.xticks([0, 1, 2], etiket_isimleri)\n",
        "plt.yticks([0, 1, 2], etiket_isimleri)\n",
        "plt.xlabel(\"Tahmin Edilen\")\n",
        "plt.ylabel(\"Gerçek Değer\")a\n",
        "plt.show()\n"
      ],
      "metadata": {
        "colab": {
          "base_uri": "https://localhost:8080/",
          "height": 769
        },
        "id": "OiCCFDwiYkBJ",
        "outputId": "0b18b36d-40c5-4629-88cb-75cc9a7318ac"
      },
      "execution_count": null,
      "outputs": [
        {
          "output_type": "stream",
          "name": "stderr",
          "text": [
            "[nltk_data] Downloading package stopwords to /root/nltk_data...\n",
            "[nltk_data]   Package stopwords is already up-to-date!\n"
          ]
        },
        {
          "output_type": "stream",
          "name": "stdout",
          "text": [
            "\n",
            "📊 Sınıflandırma Raporu:\n",
            "\n",
            "              precision    recall  f1-score   support\n",
            "\n",
            "    Negative       0.59      0.66      0.62      5656\n",
            "        Notr       0.97      0.86      0.91     17092\n",
            "    Positive       0.85      0.89      0.87     26217\n",
            "\n",
            "    accuracy                           0.85     48965\n",
            "   macro avg       0.80      0.80      0.80     48965\n",
            "weighted avg       0.86      0.85      0.86     48965\n",
            "\n"
          ]
        },
        {
          "output_type": "stream",
          "name": "stderr",
          "text": [
            "/usr/local/lib/python3.11/dist-packages/IPython/core/pylabtools.py:151: UserWarning: Glyph 128309 (\\N{LARGE BLUE CIRCLE}) missing from font(s) DejaVu Sans.\n",
            "  fig.canvas.print_figure(bytes_io, **kw)\n"
          ]
        },
        {
          "output_type": "display_data",
          "data": {
            "text/plain": [
              "<Figure size 600x500 with 2 Axes>"
            ],
            "image/png": "[encoded data removed]"
          },
          "metadata": {}
        }
      ]
    },
    {
      "cell_type": "code",
      "source": [],
      "metadata": {
        "id": "ZWWjf-nhd8tz"
      },
      "execution_count": null,
      "outputs": []
    }
  ]
}